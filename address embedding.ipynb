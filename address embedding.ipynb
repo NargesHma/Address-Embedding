{
 "cells": [
  {
   "cell_type": "code",
   "execution_count": 1,
   "id": "8b279bc6-d769-4050-9a0a-5143a197877f",
   "metadata": {},
   "outputs": [],
   "source": [
    "import pandas as pd\n",
    "import re\n",
    "import numpy as np\n",
    "from sklearn.feature_extraction.text import TfidfVectorizer\n",
    "from sklearn.metrics.pairwise import cosine_similarity"
   ]
  },
  {
   "cell_type": "code",
   "execution_count": 2,
   "id": "f6f221b2-f6b1-45be-b406-c237c879e114",
   "metadata": {},
   "outputs": [],
   "source": [
    "datapool = pd.read_excel(r\"C:\\Users\\SnappFood\\Desktop\\embedding address\\datapool.xlsx\")\n",
    "leadcollection = pd.read_excel(r\"C:\\Users\\SnappFood\\Desktop\\embedding address\\lead collection.xlsx\")"
   ]
  },
  {
   "cell_type": "code",
   "execution_count": 5,
   "id": "92fd16a6-fdef-488c-9789-695a05200f32",
   "metadata": {},
   "outputs": [],
   "source": [
    "datapool.dropna(inplace=True)\n",
    "leadcollection.dropna(inplace=True)"
   ]
  },
  {
   "cell_type": "code",
   "execution_count": 6,
   "id": "378a1f39-8f28-46b7-a2fd-795a121114f7",
   "metadata": {},
   "outputs": [],
   "source": [
    "def clean_name(name):\n",
    "    name = str(name).replace(\"آ\", \"ا\").replace(\"ي\", \"ی\").replace(\"ك\", \"ک\").replace(\"\\u200c\", \"\").replace(\"ئ\", \"ی\").replace(\".\", \"\").replace(\" \", \"\").replace(\"‌\", \"\")\n",
    "    name = re.sub(r'\\(.*?\\)', '', name)\n",
    "    name = name.strip()\n",
    "    return name"
   ]
  },
  {
   "cell_type": "code",
   "execution_count": 7,
   "id": "c584159c-fc47-4539-b47e-e3ec5815519c",
   "metadata": {},
   "outputs": [],
   "source": [
    "datapool[\"Clean Name\"] = datapool[\"Name\"].apply(clean_name)\n",
    "leadcollection[\"Clean Name\"] = leadcollection[\"Name\"].apply(clean_name)"
   ]
  },
  {
   "cell_type": "code",
   "execution_count": 8,
   "id": "a0a52533-2d06-410d-ba95-a692d4eb75b5",
   "metadata": {},
   "outputs": [],
   "source": [
    "datapool['Address'] = datapool['Address'].astype(str)\n",
    "leadcollection['Address'] = leadcollection['Address'].astype(str)"
   ]
  },
  {
   "cell_type": "code",
   "execution_count": 9,
   "id": "a0972b46-0d12-4408-975b-d722993b883c",
   "metadata": {},
   "outputs": [],
   "source": [
    "datapool['combined'] = datapool['Clean Name'] + ' ' + datapool['Address']\n",
    "leadcollection['combined'] = leadcollection['Clean Name'] + ' ' + leadcollection['Address']"
   ]
  },
  {
   "cell_type": "code",
   "execution_count": 10,
   "id": "38337793-d502-479e-95e1-88755fcdb665",
   "metadata": {},
   "outputs": [
    {
     "data": {
      "text/html": [
       "<style>#sk-container-id-1 {color: black;}#sk-container-id-1 pre{padding: 0;}#sk-container-id-1 div.sk-toggleable {background-color: white;}#sk-container-id-1 label.sk-toggleable__label {cursor: pointer;display: block;width: 100%;margin-bottom: 0;padding: 0.3em;box-sizing: border-box;text-align: center;}#sk-container-id-1 label.sk-toggleable__label-arrow:before {content: \"▸\";float: left;margin-right: 0.25em;color: #696969;}#sk-container-id-1 label.sk-toggleable__label-arrow:hover:before {color: black;}#sk-container-id-1 div.sk-estimator:hover label.sk-toggleable__label-arrow:before {color: black;}#sk-container-id-1 div.sk-toggleable__content {max-height: 0;max-width: 0;overflow: hidden;text-align: left;background-color: #f0f8ff;}#sk-container-id-1 div.sk-toggleable__content pre {margin: 0.2em;color: black;border-radius: 0.25em;background-color: #f0f8ff;}#sk-container-id-1 input.sk-toggleable__control:checked~div.sk-toggleable__content {max-height: 200px;max-width: 100%;overflow: auto;}#sk-container-id-1 input.sk-toggleable__control:checked~label.sk-toggleable__label-arrow:before {content: \"▾\";}#sk-container-id-1 div.sk-estimator input.sk-toggleable__control:checked~label.sk-toggleable__label {background-color: #d4ebff;}#sk-container-id-1 div.sk-label input.sk-toggleable__control:checked~label.sk-toggleable__label {background-color: #d4ebff;}#sk-container-id-1 input.sk-hidden--visually {border: 0;clip: rect(1px 1px 1px 1px);clip: rect(1px, 1px, 1px, 1px);height: 1px;margin: -1px;overflow: hidden;padding: 0;position: absolute;width: 1px;}#sk-container-id-1 div.sk-estimator {font-family: monospace;background-color: #f0f8ff;border: 1px dotted black;border-radius: 0.25em;box-sizing: border-box;margin-bottom: 0.5em;}#sk-container-id-1 div.sk-estimator:hover {background-color: #d4ebff;}#sk-container-id-1 div.sk-parallel-item::after {content: \"\";width: 100%;border-bottom: 1px solid gray;flex-grow: 1;}#sk-container-id-1 div.sk-label:hover label.sk-toggleable__label {background-color: #d4ebff;}#sk-container-id-1 div.sk-serial::before {content: \"\";position: absolute;border-left: 1px solid gray;box-sizing: border-box;top: 0;bottom: 0;left: 50%;z-index: 0;}#sk-container-id-1 div.sk-serial {display: flex;flex-direction: column;align-items: center;background-color: white;padding-right: 0.2em;padding-left: 0.2em;position: relative;}#sk-container-id-1 div.sk-item {position: relative;z-index: 1;}#sk-container-id-1 div.sk-parallel {display: flex;align-items: stretch;justify-content: center;background-color: white;position: relative;}#sk-container-id-1 div.sk-item::before, #sk-container-id-1 div.sk-parallel-item::before {content: \"\";position: absolute;border-left: 1px solid gray;box-sizing: border-box;top: 0;bottom: 0;left: 50%;z-index: -1;}#sk-container-id-1 div.sk-parallel-item {display: flex;flex-direction: column;z-index: 1;position: relative;background-color: white;}#sk-container-id-1 div.sk-parallel-item:first-child::after {align-self: flex-end;width: 50%;}#sk-container-id-1 div.sk-parallel-item:last-child::after {align-self: flex-start;width: 50%;}#sk-container-id-1 div.sk-parallel-item:only-child::after {width: 0;}#sk-container-id-1 div.sk-dashed-wrapped {border: 1px dashed gray;margin: 0 0.4em 0.5em 0.4em;box-sizing: border-box;padding-bottom: 0.4em;background-color: white;}#sk-container-id-1 div.sk-label label {font-family: monospace;font-weight: bold;display: inline-block;line-height: 1.2em;}#sk-container-id-1 div.sk-label-container {text-align: center;}#sk-container-id-1 div.sk-container {/* jupyter's `normalize.less` sets `[hidden] { display: none; }` but bootstrap.min.css set `[hidden] { display: none !important; }` so we also need the `!important` here to be able to override the default hidden behavior on the sphinx rendered scikit-learn.org. See: https://github.com/scikit-learn/scikit-learn/issues/21755 */display: inline-block !important;position: relative;}#sk-container-id-1 div.sk-text-repr-fallback {display: none;}</style><div id=\"sk-container-id-1\" class=\"sk-top-container\"><div class=\"sk-text-repr-fallback\"><pre>TfidfVectorizer()</pre><b>In a Jupyter environment, please rerun this cell to show the HTML representation or trust the notebook. <br />On GitHub, the HTML representation is unable to render, please try loading this page with nbviewer.org.</b></div><div class=\"sk-container\" hidden><div class=\"sk-item\"><div class=\"sk-estimator sk-toggleable\"><input class=\"sk-toggleable__control sk-hidden--visually\" id=\"sk-estimator-id-1\" type=\"checkbox\" checked><label for=\"sk-estimator-id-1\" class=\"sk-toggleable__label sk-toggleable__label-arrow\">TfidfVectorizer</label><div class=\"sk-toggleable__content\"><pre>TfidfVectorizer()</pre></div></div></div></div></div>"
      ],
      "text/plain": [
       "TfidfVectorizer()"
      ]
     },
     "execution_count": 10,
     "metadata": {},
     "output_type": "execute_result"
    }
   ],
   "source": [
    "vectorizer = TfidfVectorizer()\n",
    "all_texts = datapool['combined'].to_list() + leadcollection['combined'].to_list()\n",
    "vectorizer.fit(all_texts)"
   ]
  },
  {
   "cell_type": "code",
   "execution_count": 11,
   "id": "428e082a-53c6-4ead-bd0d-d5c038ab3c5b",
   "metadata": {},
   "outputs": [],
   "source": [
    "tfidf_matrix_1 = vectorizer.transform(datapool[\"combined\"])\n",
    "tfidf_matrix_2 = vectorizer.transform(leadcollection[\"combined\"])"
   ]
  },
  {
   "cell_type": "code",
   "execution_count": 12,
   "id": "11a17faa-d379-4c4f-85f0-065d3bf4f348",
   "metadata": {},
   "outputs": [],
   "source": [
    "# Calculate cosine similarity\n",
    "similarity_matrix = cosine_similarity(tfidf_matrix_1, tfidf_matrix_2)\n",
    "\n",
    "# Convert to a DataFrame for better visualization, if needed\n",
    "similarity_df = pd.DataFrame(similarity_matrix, index=datapool.index, columns=leadcollection.index)\n"
   ]
  },
  {
   "cell_type": "code",
   "execution_count": 14,
   "id": "ad6fa7e8-fb01-44ed-bca3-e5da041afc6e",
   "metadata": {},
   "outputs": [],
   "source": [
    "threshold = 0.7\n",
    "\n",
    "# Convert columns to numpy arrays for faster access\n",
    "datapool_city = datapool['City'].values\n",
    "leadcollection_city = leadcollection['City'].values\n",
    "datapool_ids = datapool['ID'].values\n",
    "datapool_names = datapool['Name'].values\n",
    "\n",
    "# Initialize the list to store the most similar pairs\n",
    "most_similar_pairs = []\n",
    "\n",
    "for i in range(similarity_matrix.shape[1]):\n",
    "    # Get the indices where the cities match\n",
    "    matching_indices = np.where(leadcollection_city[i] == datapool_city)[0]\n",
    "    \n",
    "    if len(matching_indices) == 0:\n",
    "        continue  # Skip if no matching cities are found\n",
    "\n",
    "    # Extract the relevant similarity scores\n",
    "    similarities = similarity_matrix[matching_indices, i]\n",
    "    # Find the index of the maximum similarity score\n",
    "    max_idx = np.argmax(similarities)\n",
    "    max_similarity = similarities[max_idx]\n",
    "    \n",
    "    if max_similarity > threshold:\n",
    "        j = matching_indices[max_idx]\n",
    "        leadcollection.at[i, 'ID'] = datapool_ids[j]\n",
    "        leadcollection.at[i, 'ratio'] = max_similarity\n",
    "        most_similar_pairs.append((datapool_names[j], leadcollection.iloc[i]['Name']))\n"
   ]
  },
  {
   "cell_type": "code",
   "execution_count": 15,
   "id": "e7c1d3b1-ffaf-479a-9253-b0a45ec0ef43",
   "metadata": {
    "scrolled": true
   },
   "outputs": [],
   "source": [
    "leadcollection.drop(columns = [\"Clean Name\", \"combined\"], inplace=True)"
   ]
  },
  {
   "cell_type": "code",
   "execution_count": 16,
   "id": "d66401ca-2e3b-4719-baf7-d21d8b731b0c",
   "metadata": {},
   "outputs": [],
   "source": [
    "leadcollection.to_excel(r\"C:\\Users\\SnappFood\\Desktop\\embedding address\\lead collection final.xlsx\", index=False)"
   ]
  },
  {
   "cell_type": "code",
   "execution_count": null,
   "id": "231c1151-c389-42a9-8577-4716255b1d81",
   "metadata": {},
   "outputs": [],
   "source": []
  },
  {
   "cell_type": "code",
   "execution_count": null,
   "id": "3ac0387b-bb6c-4135-bcdf-92751cda229d",
   "metadata": {},
   "outputs": [],
   "source": []
  },
  {
   "cell_type": "code",
   "execution_count": null,
   "id": "80333a83-9de2-4efe-96a6-2a1ccf2f7a7c",
   "metadata": {},
   "outputs": [],
   "source": []
  },
  {
   "cell_type": "code",
   "execution_count": null,
   "id": "1837be17-d36e-402e-b95b-c71a504af9d3",
   "metadata": {},
   "outputs": [],
   "source": []
  },
  {
   "cell_type": "code",
   "execution_count": null,
   "id": "a9c77144-2c51-4520-b94f-8cab7c41f363",
   "metadata": {},
   "outputs": [],
   "source": []
  },
  {
   "cell_type": "code",
   "execution_count": null,
   "id": "8ed2c09d-1cdc-4a4b-813b-2ca4c0edf338",
   "metadata": {},
   "outputs": [],
   "source": []
  },
  {
   "cell_type": "code",
   "execution_count": null,
   "id": "88b0a9f4-c631-4750-a9f1-bf99da1959b5",
   "metadata": {},
   "outputs": [],
   "source": []
  },
  {
   "cell_type": "code",
   "execution_count": 20,
   "id": "f84a2ff1-d749-4b68-92c3-92621f3543b8",
   "metadata": {},
   "outputs": [
    {
     "ename": "KeyError",
     "evalue": "(array([    3,     4,     7, ..., 46275, 46278, 46285], dtype=int64), 0)",
     "output_type": "error",
     "traceback": [
      "\u001b[1;31m---------------------------------------------------------------------------\u001b[0m",
      "\u001b[1;31mKeyError\u001b[0m                                  Traceback (most recent call last)",
      "Cell \u001b[1;32mIn[20], line 91\u001b[0m\n\u001b[0;32m     89\u001b[0m vectorizer \u001b[38;5;241m=\u001b[39m fit_vectorizer(datapool, leadcollection)\n\u001b[0;32m     90\u001b[0m similarity_matrix \u001b[38;5;241m=\u001b[39m compute_similarity(vectorizer, datapool, leadcollection)\n\u001b[1;32m---> 91\u001b[0m leadcollection \u001b[38;5;241m=\u001b[39m \u001b[43mmatch_addresses\u001b[49m\u001b[43m(\u001b[49m\u001b[43mdatapool\u001b[49m\u001b[43m,\u001b[49m\u001b[43m \u001b[49m\u001b[43mleadcollection\u001b[49m\u001b[43m,\u001b[49m\u001b[43m \u001b[49m\u001b[43msimilarity_matrix\u001b[49m\u001b[43m)\u001b[49m\n\u001b[0;32m     92\u001b[0m leadcollection \u001b[38;5;241m=\u001b[39m clean_up(leadcollection)\n\u001b[0;32m     93\u001b[0m save_results(leadcollection, output_path)\n",
      "Cell \u001b[1;32mIn[20], line 61\u001b[0m, in \u001b[0;36mmatch_addresses\u001b[1;34m(datapool, leadcollection, similarity_matrix, threshold)\u001b[0m\n\u001b[0;32m     58\u001b[0m     \u001b[38;5;28;01mcontinue\u001b[39;00m\n\u001b[0;32m     60\u001b[0m \u001b[38;5;66;03m# Extract the relevant similarity scores and prevent index errors\u001b[39;00m\n\u001b[1;32m---> 61\u001b[0m similarities \u001b[38;5;241m=\u001b[39m \u001b[43msimilarity_matrix\u001b[49m\u001b[43m[\u001b[49m\u001b[43mmatching_indices\u001b[49m\u001b[43m,\u001b[49m\u001b[43m \u001b[49m\u001b[43mi\u001b[49m\u001b[43m]\u001b[49m\n\u001b[0;32m     62\u001b[0m \u001b[38;5;28;01mif\u001b[39;00m similarities\u001b[38;5;241m.\u001b[39msize \u001b[38;5;241m==\u001b[39m \u001b[38;5;241m0\u001b[39m:\n\u001b[0;32m     63\u001b[0m     \u001b[38;5;28;01mcontinue\u001b[39;00m\n",
      "File \u001b[1;32m~\\AppData\\Local\\Programs\\Python\\Python312\\Lib\\site-packages\\pandas\\core\\frame.py:3893\u001b[0m, in \u001b[0;36mDataFrame.__getitem__\u001b[1;34m(self, key)\u001b[0m\n\u001b[0;32m   3891\u001b[0m \u001b[38;5;28;01mif\u001b[39;00m \u001b[38;5;28mself\u001b[39m\u001b[38;5;241m.\u001b[39mcolumns\u001b[38;5;241m.\u001b[39mnlevels \u001b[38;5;241m>\u001b[39m \u001b[38;5;241m1\u001b[39m:\n\u001b[0;32m   3892\u001b[0m     \u001b[38;5;28;01mreturn\u001b[39;00m \u001b[38;5;28mself\u001b[39m\u001b[38;5;241m.\u001b[39m_getitem_multilevel(key)\n\u001b[1;32m-> 3893\u001b[0m indexer \u001b[38;5;241m=\u001b[39m \u001b[38;5;28;43mself\u001b[39;49m\u001b[38;5;241;43m.\u001b[39;49m\u001b[43mcolumns\u001b[49m\u001b[38;5;241;43m.\u001b[39;49m\u001b[43mget_loc\u001b[49m\u001b[43m(\u001b[49m\u001b[43mkey\u001b[49m\u001b[43m)\u001b[49m\n\u001b[0;32m   3894\u001b[0m \u001b[38;5;28;01mif\u001b[39;00m is_integer(indexer):\n\u001b[0;32m   3895\u001b[0m     indexer \u001b[38;5;241m=\u001b[39m [indexer]\n",
      "File \u001b[1;32m~\\AppData\\Local\\Programs\\Python\\Python312\\Lib\\site-packages\\pandas\\core\\indexes\\range.py:418\u001b[0m, in \u001b[0;36mRangeIndex.get_loc\u001b[1;34m(self, key)\u001b[0m\n\u001b[0;32m    416\u001b[0m         \u001b[38;5;28;01mraise\u001b[39;00m \u001b[38;5;167;01mKeyError\u001b[39;00m(key) \u001b[38;5;28;01mfrom\u001b[39;00m \u001b[38;5;21;01merr\u001b[39;00m\n\u001b[0;32m    417\u001b[0m \u001b[38;5;28;01mif\u001b[39;00m \u001b[38;5;28misinstance\u001b[39m(key, Hashable):\n\u001b[1;32m--> 418\u001b[0m     \u001b[38;5;28;01mraise\u001b[39;00m \u001b[38;5;167;01mKeyError\u001b[39;00m(key)\n\u001b[0;32m    419\u001b[0m \u001b[38;5;28mself\u001b[39m\u001b[38;5;241m.\u001b[39m_check_indexing_error(key)\n\u001b[0;32m    420\u001b[0m \u001b[38;5;28;01mraise\u001b[39;00m \u001b[38;5;167;01mKeyError\u001b[39;00m(key)\n",
      "\u001b[1;31mKeyError\u001b[0m: (array([    3,     4,     7, ..., 46275, 46278, 46285], dtype=int64), 0)"
     ]
    }
   ],
   "source": [
    "import pandas as pd\n",
    "import re\n",
    "import numpy as np\n",
    "from sklearn.feature_extraction.text import TfidfVectorizer\n",
    "from sklearn.metrics.pairwise import cosine_similarity\n",
    "\n",
    "def load_data(datapool_path, leadcollection_path):\n",
    "    datapool = pd.read_excel(datapool_path)\n",
    "    leadcollection = pd.read_excel(leadcollection_path)\n",
    "    datapool.dropna(inplace=True)\n",
    "    leadcollection.dropna(inplace=True)\n",
    "    return datapool, leadcollection\n",
    "\n",
    "def clean_name(name):\n",
    "    name = str(name).replace(\"آ\", \"ا\").replace(\"ي\", \"ی\").replace(\"ك\", \"ک\").replace(\"\\u200c\", \"\").replace(\"ئ\", \"ی\").replace(\".\", \"\").replace(\" \", \"\").replace(\"\\u200c\", \"\")\n",
    "    name = re.sub(r'\\(.*?\\)', '', name)\n",
    "    name = name.strip()\n",
    "    return name\n",
    "\n",
    "def preprocess_data(datapool, leadcollection):\n",
    "    datapool[\"Clean Name\"] = datapool[\"Name\"].apply(clean_name)\n",
    "    leadcollection[\"Clean Name\"] = leadcollection[\"Name\"].apply(clean_name)\n",
    "\n",
    "    datapool['Address'] = datapool['Address'].astype(str)\n",
    "    leadcollection['Address'] = leadcollection['Address'].astype(str)\n",
    "\n",
    "    datapool['combined'] = datapool['Clean Name'] + ' ' + datapool['Address']\n",
    "    leadcollection['combined'] = leadcollection['Clean Name'] + ' ' + leadcollection['Address']\n",
    "    \n",
    "    return datapool, leadcollection\n",
    "\n",
    "def fit_vectorizer(datapool, leadcollection):\n",
    "    vectorizer = TfidfVectorizer()\n",
    "    all_texts = datapool['combined'].to_list() + leadcollection['combined'].to_list()\n",
    "    vectorizer.fit(all_texts)\n",
    "    return vectorizer\n",
    "\n",
    "def compute_similarity(vectorizer, datapool, leadcollection):\n",
    "    tfidf_matrix_1 = vectorizer.transform(datapool[\"combined\"])\n",
    "    tfidf_matrix_2 = vectorizer.transform(leadcollection[\"combined\"])\n",
    "    similarity_matrix = cosine_similarity(tfidf_matrix_1, tfidf_matrix_2)\n",
    "    similarity_df = pd.DataFrame(similarity_matrix, index=datapool.index, columns=leadcollection.index)\n",
    "    return similarity_df\n",
    "\n",
    "def match_addresses(datapool, leadcollection, similarity_matrix, threshold=0.7):\n",
    "    datapool_city = datapool['City'].values\n",
    "    leadcollection_city = leadcollection['City'].values\n",
    "    datapool_ids = datapool['ID'].values\n",
    "    datapool_names = datapool['Name'].values\n",
    "\n",
    "    most_similar_pairs = []\n",
    "\n",
    "    for i in range(similarity_matrix.shape[1]):\n",
    "        # Ensure that i is an integer index and that cities match correctly\n",
    "        matching_indices = np.where(leadcollection_city[i] == datapool_city)[0]\n",
    "        \n",
    "        if len(matching_indices) == 0:\n",
    "            continue\n",
    "\n",
    "        # Extract the relevant similarity scores and prevent index errors\n",
    "        similarities = similarity_matrix[matching_indices, i]\n",
    "        if similarities.size == 0:\n",
    "            continue\n",
    "\n",
    "        max_idx = np.argmax(similarities)\n",
    "        max_similarity = similarities[max_idx]\n",
    "        \n",
    "        if max_similarity > threshold:\n",
    "            j = matching_indices[max_idx]\n",
    "            leadcollection.at[i, 'ID'] = datapool_ids[j]\n",
    "            leadcollection.at[i, 'ratio'] = max_similarity\n",
    "            \n",
    "    return leadcollection\n",
    "\n",
    "def clean_up(leadcollection):\n",
    "    leadcollection.drop(columns = [\"Clean Name\", \"combined\"], inplace=True)\n",
    "    return leadcollection\n",
    "\n",
    "def save_results(leadcollection, output_path):\n",
    "    leadcollection.to_excel(output_path, index=False)\n",
    "\n",
    "# Example usage\n",
    "datapool_path = r\"C:\\\\Users\\\\SnappFood\\\\Desktop\\\\embedding address\\\\datapool.xlsx\"\n",
    "leadcollection_path = r\"C:\\\\Users\\\\SnappFood\\\\Desktop\\\\embedding address\\\\lead collection.xlsx\"\n",
    "output_path = r\"C:\\\\Users\\\\SnappFood\\\\Desktop\\\\embedding address\\\\lead collection final1.xlsx\"\n",
    "\n",
    "datapool, leadcollection = load_data(datapool_path, leadcollection_path)\n",
    "datapool, leadcollection = preprocess_data(datapool, leadcollection)\n",
    "vectorizer = fit_vectorizer(datapool, leadcollection)\n",
    "similarity_matrix = compute_similarity(vectorizer, datapool, leadcollection)\n",
    "leadcollection = match_addresses(datapool, leadcollection, similarity_matrix)\n",
    "leadcollection = clean_up(leadcollection)\n",
    "save_results(leadcollection, output_path)\n"
   ]
  },
  {
   "cell_type": "code",
   "execution_count": null,
   "id": "536a0c56-f289-4823-82b4-5a364d3f24e0",
   "metadata": {},
   "outputs": [],
   "source": []
  }
 ],
 "metadata": {
  "kernelspec": {
   "display_name": "Python 3 (ipykernel)",
   "language": "python",
   "name": "python3"
  },
  "language_info": {
   "codemirror_mode": {
    "name": "ipython",
    "version": 3
   },
   "file_extension": ".py",
   "mimetype": "text/x-python",
   "name": "python",
   "nbconvert_exporter": "python",
   "pygments_lexer": "ipython3",
   "version": "3.12.0"
  }
 },
 "nbformat": 4,
 "nbformat_minor": 5
}
